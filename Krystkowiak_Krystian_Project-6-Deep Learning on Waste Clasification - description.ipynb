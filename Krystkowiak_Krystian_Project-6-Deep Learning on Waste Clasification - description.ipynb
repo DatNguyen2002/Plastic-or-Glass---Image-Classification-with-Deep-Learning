{
 "cells": [
  {
   "cell_type": "markdown",
   "id": "80dc9406",
   "metadata": {},
   "source": [
    "# Plastic or Glass?\n",
    "## Metis-Project-6- Deep Learning for Plastic/Glass Waste Classification\n",
    "\n",
    "Krystian Krystkowiak 2022"
   ]
  },
  {
   "cell_type": "markdown",
   "id": "108b7965",
   "metadata": {},
   "source": [
    "**Abstract:**\n",
    "\n",
    "\n",
    "The goal of this project was building of **deep learning model** capable of **classifying glass and plastic** waste photos. A model with acceptable F1 score that can be part of more complex models and be utilised in modern sorting technologies. I worked with \"Images dataset for classifying household garbage\" dataset from Kaggle. After creating Logistic Regression baseline model, I trained, tested and tuned couple different deep learning models. My findings and best performing, refined CCN model I visualised and proposed during presentation, using Keynote and Tableau."
   ]
  },
  {
   "cell_type": "markdown",
   "id": "1525809b",
   "metadata": {},
   "source": [
    "**Design:**\n",
    "\n",
    "Over 2 billion tons of garbage we dump somewhere on the planet every year. Mismanaged **waste accumulates**, becoming part of ecosystem and inevitably leading to **environmental pollution and health issues** for humans.\n",
    "**Efficient waste management** is one of the great challenges of our time. **New technologies** can make life much easier for governments, companies and - last but not least - ordinary people. The spectrum of innovations ranges from smart waste containers to self-learning sorting technologies.\n",
    "\n",
    "One of steps in creating mentioned solutions is building and improvement of **machine learning model capable of classifying different types of waste**. This project is focusing on **glass and plastic** as those are more challenging parts of the problem."
   ]
  },
  {
   "cell_type": "markdown",
   "id": "6ec1bcf2",
   "metadata": {},
   "source": [
    "**Data:**\n",
    "\n",
    "The dataset originally comes from **Kaggle** and is part of **\"Images dataset for classifying household garbage\"**, created by Mostafa Mohamed: https://www.kaggle.com/datasets/mostafaabla/garbage-classification\n",
    "\n",
    "The data is ordered mixture of older Kaggle \"Garbage Classification\" datasets and web scraped pictures.\n",
    "\n",
    "**2876 RGB images** belonging to **4 classes**: **plastic** (865 images), **green-glass** (629 images), **brown-glass** (607 images) and **white-glass** (775 images)."
   ]
  },
  {
   "cell_type": "markdown",
   "id": "12e5a9de",
   "metadata": {},
   "source": [
    "**Algorithms:**\n",
    "\n",
    "EDA, cleaning, loading and preprocessing data.\n",
    "\n",
    "**F1 score as metric**.\n",
    "\n",
    "Validation and testing: **80%(2300 images)/20%(576 images) training/validation** split.\n",
    "\n",
    "Fine **tuning** the models, layers design, optimizers, **regularization** techniques.\n",
    "\n",
    "**Logistic Regression (baselane model)**: \n",
    "\n",
    "- F1 on training set: 0.470\n",
    "\n",
    "- **F1 on validation set: 0.459**\n",
    "\n",
    "Neural Network model:\n",
    "\n",
    "- F1 on training set: 0.960\n",
    "\n",
    "- F1 on validation set: 0.803\n",
    "\n",
    "**Convolutional Neural Network (best F1 and with smallest overfitting)**:\n",
    "\n",
    "- **F1 on training set: 0.945**\n",
    "\n",
    "- **F1 on validation set: 0.898**\n",
    "\n",
    "Transfer learning - VGG16 (second \"best\"):\n",
    "\n",
    "- F1 on training set: 0.997\n",
    "\n",
    "- F1 on validation set: 0.861\n",
    "\n",
    "Transfer learning - VGG19:\n",
    "\n",
    "- F1 on training set: 0.990\n",
    "\n",
    "- F1 on validation set: 0.848\n",
    "\n",
    "Transfer learning - Xception:\n",
    "\n",
    "- F1 on training set: 0.999\n",
    "\n",
    "- F1 on validation set: 0.792\n",
    "\n",
    "Transfer learning - VGG19 (how is it trained matters):\n",
    "\n",
    "- F1 on training set: 0.213\n",
    "\n",
    "- F1 on validation set: 0.310"
   ]
  },
  {
   "cell_type": "markdown",
   "id": "7cc00643",
   "metadata": {},
   "source": [
    "**Tools:**\n",
    "\n",
    "Python Pandas and Numpy for processing.\n",
    "\n",
    "Scikit-learn, **Keras**, Tensorflow for modelling.\n",
    "\n",
    "Google Colab for processing.\n",
    "\n",
    "Seaborn and Tableau for visualisation."
   ]
  },
  {
   "cell_type": "markdown",
   "id": "443a9b89",
   "metadata": {},
   "source": [
    "**Communication:**\n",
    "\n",
    "5 minutes recorded video **presentation** with visualisation."
   ]
  }
 ],
 "metadata": {
  "kernelspec": {
   "display_name": "Python 3 (unsupervised)",
   "language": "python",
   "name": "unsupervised"
  },
  "language_info": {
   "codemirror_mode": {
    "name": "ipython",
    "version": 3
   },
   "file_extension": ".py",
   "mimetype": "text/x-python",
   "name": "python",
   "nbconvert_exporter": "python",
   "pygments_lexer": "ipython3",
   "version": "3.9.12"
  }
 },
 "nbformat": 4,
 "nbformat_minor": 5
}
