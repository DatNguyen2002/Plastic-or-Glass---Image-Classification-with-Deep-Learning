{
 "cells": [
  {
   "cell_type": "markdown",
   "id": "80dc9406",
   "metadata": {},
   "source": [
    "# Garebage Inteligence\n",
    "## Metis Project 6 - Deep Learning for Waste Clasification\n",
    "Krystian Krystkowiak 2022"
   ]
  },
  {
   "cell_type": "markdown",
   "id": "ed532164",
   "metadata": {},
   "source": [
    "**Question/Need:**\n",
    "\n",
    "Over 2 billion tons of garbage we dump somewhere on the planet every year. Mismanaged waste accumulates, becoming part of ecosystem and inevitably leading to environmental pollution and health issues for humans.\n",
    "\n",
    "Efficient waste management is one of the great challenges of our time. New technologies can make life much easier for governments, companies and - last but not least - ordinary people. The spectrum of innovations ranges from smart waste containers to self-learning sorting technologies.\n",
    "\n",
    "One of steps in creating mentioned solutions is \n",
    "**building and improvement of machine learning model capable of classifying different types of waste.**"
   ]
  },
  {
   "cell_type": "markdown",
   "id": "6ec1bcf2",
   "metadata": {},
   "source": [
    "**Data Description:**\n",
    "\n",
    "I intend to use the dataset \"Images dataset for classifying household garbage\", created by Mostafa Mohamed.\n",
    "https://www.kaggle.com/datasets/mostafaabla/garbage-classification\n",
    "The data is ordered mixture of older Kaggle \"Garbage Classification\" datasets and  web scraped pictures.\n",
    "\n",
    "It is over **15k images** from **12 different classes of household garbage**; paper, cardboard, biological, metal, plastic, green-glass, brown-glass, white-glass, clothes, shoes, batteries, and trash."
   ]
  },
  {
   "cell_type": "markdown",
   "id": "7cc00643",
   "metadata": {},
   "source": [
    "**Tools:**\n",
    "\n",
    "Python Pandas and Numpy for processing. \n",
    "\n",
    "Python deep learning learning libraries.\n",
    "\n",
    "Google Colab for processing.\n",
    "\n",
    "Python Seaborn and Plotly for visualisation.\n",
    "\n",
    "Tableau for visualisation."
   ]
  },
  {
   "cell_type": "markdown",
   "id": "443a9b89",
   "metadata": {},
   "source": [
    "**MVP Goal:**\n",
    "\n",
    "Initial models with up to 3 plots and preliminary conclusions."
   ]
  }
 ],
 "metadata": {
  "kernelspec": {
   "display_name": "Python 3 (ipykernel)",
   "language": "python",
   "name": "python3"
  },
  "language_info": {
   "codemirror_mode": {
    "name": "ipython",
    "version": 3
   },
   "file_extension": ".py",
   "mimetype": "text/x-python",
   "name": "python",
   "nbconvert_exporter": "python",
   "pygments_lexer": "ipython3",
   "version": "3.8.13"
  }
 },
 "nbformat": 4,
 "nbformat_minor": 5
}
